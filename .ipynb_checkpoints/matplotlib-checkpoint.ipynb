{
 "cells": [
  {
   "cell_type": "markdown",
   "id": "reduced-piece",
   "metadata": {},
   "source": [
    "## Importing packages\n"
   ]
  },
  {
   "cell_type": "code",
   "execution_count": 42,
   "id": "another-webster",
   "metadata": {},
   "outputs": [],
   "source": [
    "import numpy as np\n",
    "import matplotlib.pyplot as plt\n",
    "from importlib import reload\n",
    "plt=reload(plt)"
   ]
  },
  {
   "cell_type": "markdown",
   "id": "fifth-shuttle",
   "metadata": {},
   "source": [
    "## Drawing Line Graphs"
   ]
  },
  {
   "cell_type": "code",
   "execution_count": 70,
   "id": "arabic-attribute",
   "metadata": {},
   "outputs": [
    {
     "name": "stdout",
     "output_type": "stream",
     "text": [
      "[1 4 9]\n"
     ]
    },
    {
     "data": {
      "image/png": "[encoded data removed]",
      "text/plain": [
       "<Figure size 432x288 with 1 Axes>"
      ]
     },
     "metadata": {
      "needs_background": "light"
     },
     "output_type": "display_data"
    }
   ],
   "source": [
    "x1 = np.array([1, 2, 3, 4, 5])\n",
    "y1 = x1.copy()*2\n",
    "\n",
    "x2 = x1.copy()\n",
    "y2 = x1.copy()**2\n",
    "# plots for the first data\n",
    "plt.plot(x1, y1, 'r-o', linewidth=2, markeredgecolor=\"blue\", label=\"Boys\")\n",
    "# plots for the second data\n",
    "#  from the third point it should be dashed\n",
    "plt.plot(x2[:3], y2[:3], 'g--o', linewidth=2, markeredgecolor='red', label=\"Girls\")\n",
    "plt.plot(x2[2:], y2[2:], 'g--o', linewidth=2, markeredgecolor='red')\n",
    "\n",
    "plt.xlabel('x-axis')\n",
    "plt.ylabel(\"x-axis\")\n",
    "plt.title(\"Relationships\", fontfamily=\"Arial\", fontsize=20, fontweight='bold')\n",
    "plt.legend()\n",
    "plt.show()"
   ]
  },
  {
   "cell_type": "code",
   "execution_count": null,
   "id": "discrete-prior",
   "metadata": {},
   "outputs": [],
   "source": []
  },
  {
   "cell_type": "markdown",
   "id": "spoken-initial",
   "metadata": {},
   "source": [
    "## Drawing bar Graphs"
   ]
  },
  {
   "cell_type": "code",
   "execution_count": null,
   "id": "sunset-repository",
   "metadata": {},
   "outputs": [],
   "source": []
  },
  {
   "cell_type": "code",
   "execution_count": null,
   "id": "tender-infrastructure",
   "metadata": {},
   "outputs": [],
   "source": []
  },
  {
   "cell_type": "markdown",
   "id": "fatty-collaboration",
   "metadata": {},
   "source": [
    "## Drawing Pie Chats"
   ]
  },
  {
   "cell_type": "code",
   "execution_count": null,
   "id": "distinct-party",
   "metadata": {},
   "outputs": [],
   "source": []
  },
  {
   "cell_type": "code",
   "execution_count": null,
   "id": "yellow-algeria",
   "metadata": {},
   "outputs": [],
   "source": []
  },
  {
   "cell_type": "code",
   "execution_count": null,
   "id": "hired-harbor",
   "metadata": {},
   "outputs": [],
   "source": []
  },
  {
   "cell_type": "code",
   "execution_count": null,
   "id": "willing-awareness",
   "metadata": {},
   "outputs": [],
   "source": []
  },
  {
   "cell_type": "code",
   "execution_count": null,
   "id": "impressed-timing",
   "metadata": {},
   "outputs": [],
   "source": []
  },
  {
   "cell_type": "code",
   "execution_count": null,
   "id": "stock-concern",
   "metadata": {},
   "outputs": [],
   "source": []
  },
  {
   "cell_type": "code",
   "execution_count": null,
   "id": "criminal-template",
   "metadata": {},
   "outputs": [],
   "source": []
  },
  {
   "cell_type": "code",
   "execution_count": null,
   "id": "existing-shield",
   "metadata": {},
   "outputs": [],
   "source": []
  }
 ],
 "metadata": {
  "kernelspec": {
   "display_name": "Python 3",
   "language": "python",
   "name": "python3"
  },
  "language_info": {
   "codemirror_mode": {
    "name": "ipython",
    "version": 3
   },
   "file_extension": ".py",
   "mimetype": "text/x-python",
   "name": "python",
   "nbconvert_exporter": "python",
   "pygments_lexer": "ipython3",
   "version": "3.8.5"
  }
 },
 "nbformat": 4,
 "nbformat_minor": 5
}
